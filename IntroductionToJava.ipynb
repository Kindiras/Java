{
 "cells": [
  {
   "cell_type": "code",
   "execution_count": 31,
   "id": "94c8ffc8",
   "metadata": {},
   "outputs": [],
   "source": [
    "// access modifier are case sensitive like public and this gives the full access\n",
    "// class keyword is used to define the class left and right curly bracess define the body\n",
    "//of class\n",
    "\n",
    "//Method (function in c++) is a collection statements that performs an operation\n",
    "//statement is a complete command to be excuted and can include one or more expression\n",
    "public class Hello {\n",
    "\n",
    "    public static void main(String[] args){\n",
    "    System.out.println(\"HelloWorld\");\n",
    "    }\n",
    "}"
   ]
  },
  {
   "cell_type": "code",
   "execution_count": 34,
   "id": "3a601b33",
   "metadata": {},
   "outputs": [
    {
     "name": "stdout",
     "output_type": "stream",
     "text": [
      "HelloWorld\n"
     ]
    }
   ],
   "source": [
    "Hello.main(null)"
   ]
  },
  {
   "cell_type": "code",
   "execution_count": 45,
   "id": "400a6b60",
   "metadata": {},
   "outputs": [],
   "source": [
    "//variables are a way to sotore information in our computer.\n",
    "//collection of variables are datatype\n",
    "public class Variable {\n",
    "    public static void main(String[] args){\n",
    "        System.out.println(\"Hello World\");\n",
    "        int a = (5*10)+20; //Declaration of variable is called declaration statement\n",
    "        System.out.println(\"The variable is\");System.out.println(a);\n",
    "    }\n",
    "}\n"
   ]
  },
  {
   "cell_type": "code",
   "execution_count": 47,
   "id": "529fb7ac",
   "metadata": {},
   "outputs": [
    {
     "name": "stdout",
     "output_type": "stream",
     "text": [
      "Hello World\n",
      "The variable is\n",
      "70\n"
     ]
    }
   ],
   "source": [
    "Variable.main(null)"
   ]
  },
  {
   "cell_type": "markdown",
   "id": "15f6d730",
   "metadata": {},
   "source": [
    "# Eight primitive data type in java are boolean, byte, char, short, int, long, float, and double"
   ]
  },
  {
   "cell_type": "code",
   "execution_count": 62,
   "id": "5a38dc32",
   "metadata": {},
   "outputs": [],
   "source": [
    "//A package is a way to organize the java project.\n",
    "// folder is learnprogramming and subfolder is academy\n",
    "//For here I have commented the package\n",
    "//package academy.learnprogramming;\n",
    "//Wrapper classes concept is used in java\n",
    "\n",
    "\n",
    "public class Main {\n",
    "\n",
    "    public static void main(String[] args) {\n",
    "\tint a = 10000;\n",
    "    int myMinIntValue = Integer.MIN_VALUE;\n",
    "    int myMaxIntValue = Integer.MAX_VALUE;\n",
    "    System.out.println(\"Integer Minimum value= \"  + myMinIntValue);\n",
    "    System.out.println(\"Integer Maximum value= \"  + myMaxIntValue);\n",
    "    System.out.println(\"Busted Maximum value= \"  +  (myMaxIntValue+1));\n",
    "    System.out.println(\"Busted Minimum value= \"  +  (myMinIntValue - 1));\n",
    "\n",
    "    int myMinByteValue = Byte.MIN_VALUE;\n",
    "    int myMaxByteValue = Byte.MAX_VALUE;\n",
    "    System.out.println(\"Byte Maximum value= \"  + myMinByteValue);\n",
    "    System.out.println(\"Byte Min value= \"  + myMaxByteValue);\n",
    "    }\n",
    "}\n"
   ]
  },
  {
   "cell_type": "code",
   "execution_count": 63,
   "id": "25502218",
   "metadata": {},
   "outputs": [
    {
     "name": "stdout",
     "output_type": "stream",
     "text": [
      "Integer Minimum value= -2147483648\n",
      "Integer Maximum value= 2147483647\n",
      "Busted Maximum value= -2147483648\n",
      "Busted Minimum value= 2147483647\n",
      "Byte Maximum value= -128\n",
      "Byte Min value= 127\n"
     ]
    }
   ],
   "source": [
    "Main.main(null)"
   ]
  },
  {
   "cell_type": "markdown",
   "id": "961036ce",
   "metadata": {},
   "source": [
    "# see above adding 1 to max and subtracting 1 to min what happened?????!!!"
   ]
  },
  {
   "cell_type": "code",
   "execution_count": 65,
   "id": "09c5115e",
   "metadata": {},
   "outputs": [],
   "source": [
    "// Byte occupied 8bits\n",
    "//short 16 bits\n",
    "//int 32 bits\n"
   ]
  },
  {
   "cell_type": "markdown",
   "id": "d04ba41b",
   "metadata": {},
   "source": [
    "# Casting means treat or convert a number from one type to another. \n",
    "(byte)(myMinByteValue/2)"
   ]
  },
  {
   "cell_type": "markdown",
   "id": "f0ff5b1f",
   "metadata": {},
   "source": [
    "# Ternary Operator"
   ]
  },
  {
   "cell_type": "code",
   "execution_count": 21,
   "id": "82f38845",
   "metadata": {},
   "outputs": [],
   "source": [
    "public class TernaryOperator{\n",
    " public static void main(String[] args){\n",
    " boolean Phd = true;\n",
    " \n",
    " boolean Indi = Phd ? true : false;\n",
    " \n",
    " if(Indi){\n",
    "     System.out.println(\"Indiras is PHD: \" + Indi);\n",
    "     }\n",
    " }\n",
    "}"
   ]
  },
  {
   "cell_type": "code",
   "execution_count": 22,
   "id": "b31b4a0d",
   "metadata": {},
   "outputs": [
    {
     "name": "stdout",
     "output_type": "stream",
     "text": [
      "Indiras is PHD: true\n"
     ]
    }
   ],
   "source": [
    "TernaryOperator.main(null)"
   ]
  },
  {
   "cell_type": "code",
   "execution_count": null,
   "id": "72459def",
   "metadata": {},
   "outputs": [],
   "source": []
  }
 ],
 "metadata": {
  "kernelspec": {
   "display_name": "Java",
   "language": "java",
   "name": "java"
  },
  "language_info": {
   "codemirror_mode": "java",
   "file_extension": ".jshell",
   "mimetype": "text/x-java-source",
   "name": "Java",
   "pygments_lexer": "java",
   "version": "17.0.2+8-LTS"
  }
 },
 "nbformat": 4,
 "nbformat_minor": 5
}
