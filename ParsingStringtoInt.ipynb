{
 "cells": [
  {
   "cell_type": "code",
   "execution_count": 11,
   "id": "5cf1ea76",
   "metadata": {},
   "outputs": [],
   "source": [
    "public class ParsingInt{\n",
    "    public static void main(String[] arge){\n",
    "        String numberString = \"2022\";\n",
    "        int number = Integer.parseInt(numberString);\n",
    "        number += 1;\n",
    "        numberString += 1;\n",
    "        System.out.println(numberString);\n",
    "        System.out.println(number);\n",
    "    }\n",
    "}"
   ]
  },
  {
   "cell_type": "code",
   "execution_count": 12,
   "id": "ecc0f060",
   "metadata": {},
   "outputs": [
    {
     "name": "stdout",
     "output_type": "stream",
     "text": [
      "20221\n",
      "2023\n"
     ]
    }
   ],
   "source": [
    "ParsingInt.main(null)"
   ]
  },
  {
   "cell_type": "markdown",
   "id": "a1cfbe8c",
   "metadata": {},
   "source": [
    "# Integer.parseInt can be used to convert string to int similarly Doouble and other can be used"
   ]
  },
  {
   "cell_type": "code",
   "execution_count": null,
   "id": "daeac8ec",
   "metadata": {},
   "outputs": [],
   "source": []
  }
 ],
 "metadata": {
  "kernelspec": {
   "display_name": "Java",
   "language": "java",
   "name": "java"
  },
  "language_info": {
   "codemirror_mode": "java",
   "file_extension": ".jshell",
   "mimetype": "text/x-java-source",
   "name": "Java",
   "pygments_lexer": "java",
   "version": "17.0.2+8-LTS"
  }
 },
 "nbformat": 4,
 "nbformat_minor": 5
}
