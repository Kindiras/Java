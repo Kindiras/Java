{
 "cells": [
  {
   "cell_type": "code",
   "execution_count": 10,
   "id": "a04a01cb",
   "metadata": {},
   "outputs": [],
   "source": [
    "public class MethodOverloading{\n",
    "    public static void main(String[] args){\n",
    "        int first = CalculateScore(20);\n",
    "        double second = CalculateScore(20,0.2);\n",
    "        System.out.println(\"Firstmethodis:\" + first);\n",
    "        System.out.println(\"Secondmethodoverloadi:\" + second);\n",
    "    }\n",
    "    public static int CalculateScore(int number){\n",
    "        return number*100;\n",
    "    }\n",
    "    public static double CalculateScore(int number,double num){\n",
    "        return (number*num);\n",
    "    }\n",
    "}"
   ]
  },
  {
   "cell_type": "markdown",
   "id": "688e570c",
   "metadata": {},
   "source": [
    "# More than one method with the same name, so long as we use different parameters. "
   ]
  },
  {
   "cell_type": "code",
   "execution_count": 11,
   "id": "2f72789a",
   "metadata": {},
   "outputs": [
    {
     "name": "stdout",
     "output_type": "stream",
     "text": [
      "Firstmethodis:2000\n",
      "Secondmethodoverloadi:4.0\n"
     ]
    }
   ],
   "source": [
    "MethodOverloading.main(null)"
   ]
  },
  {
   "cell_type": "code",
   "execution_count": 12,
   "id": "c7437d2c",
   "metadata": {},
   "outputs": [],
   "source": [
    "public static void main(String [] args){\n",
    "System.out.println(\"Hello\");\n",
    "System.out.println(5);\n",
    "System.out.println(10.5);\n",
    "}"
   ]
  },
  {
   "cell_type": "code",
   "execution_count": 13,
   "id": "1ae63ba6",
   "metadata": {},
   "outputs": [
    {
     "name": "stdout",
     "output_type": "stream",
     "text": [
      "Hello\n",
      "5\n",
      "10.5\n"
     ]
    }
   ],
   "source": [
    "main(null)"
   ]
  },
  {
   "cell_type": "markdown",
   "id": "e047ae0f",
   "metadata": {},
   "source": [
    "# this println has 10 methods in it Method overloading helps to remembers the name of methods"
   ]
  },
  {
   "cell_type": "code",
   "execution_count": null,
   "id": "888a7cea",
   "metadata": {},
   "outputs": [],
   "source": []
  }
 ],
 "metadata": {
  "kernelspec": {
   "display_name": "Java",
   "language": "java",
   "name": "java"
  },
  "language_info": {
   "codemirror_mode": "java",
   "file_extension": ".jshell",
   "mimetype": "text/x-java-source",
   "name": "Java",
   "pygments_lexer": "java",
   "version": "17.0.2+8-LTS"
  }
 },
 "nbformat": 4,
 "nbformat_minor": 5
}
