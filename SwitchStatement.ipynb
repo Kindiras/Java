{
 "cells": [
  {
   "cell_type": "code",
   "execution_count": 3,
   "id": "c39010b7",
   "metadata": {},
   "outputs": [],
   "source": [
    "public class SwitchStatement {\n",
    "    public static void main(String [] args){\n",
    "        int SwitchValue = 6;\n",
    "        switch(SwitchValue){\n",
    "            case 1:\n",
    "                System.out.println(\"the value is 1\");\n",
    "                break;\n",
    "            case 2:\n",
    "                System.out.println(\"the value is 2\");\n",
    "                break;\n",
    "            case 3: case 4: case 5:\n",
    "                System.out.println(\"value was 3 or 4 or 5\");\n",
    "                System.out.println(\"the actual value is:\"+SwitchValue);\n",
    "                break;\n",
    "            default:\n",
    "                System.out.println(\"the value is 6\");\n",
    "        }\n",
    "    }\n",
    "}\n"
   ]
  },
  {
   "cell_type": "code",
   "execution_count": 4,
   "id": "2a71f2d1",
   "metadata": {},
   "outputs": [
    {
     "name": "stdout",
     "output_type": "stream",
     "text": [
      "the value is 6\n"
     ]
    }
   ],
   "source": [
    "SwitchStatement.main(null)"
   ]
  },
  {
   "cell_type": "code",
   "execution_count": null,
   "id": "47e3b075",
   "metadata": {},
   "outputs": [],
   "source": []
  }
 ],
 "metadata": {
  "kernelspec": {
   "display_name": "Java",
   "language": "java",
   "name": "java"
  },
  "language_info": {
   "codemirror_mode": "java",
   "file_extension": ".jshell",
   "mimetype": "text/x-java-source",
   "name": "Java",
   "pygments_lexer": "java",
   "version": "17.0.2+8-LTS"
  }
 },
 "nbformat": 4,
 "nbformat_minor": 5
}
